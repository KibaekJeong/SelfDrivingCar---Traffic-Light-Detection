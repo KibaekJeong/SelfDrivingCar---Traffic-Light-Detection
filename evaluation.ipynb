{
 "cells": [
  {
   "cell_type": "code",
   "execution_count": 77,
   "metadata": {},
   "outputs": [],
   "source": [
    "import numpy as np\n",
    "import os\n",
    "import matplotlib.pyplot as plt\n",
    "\n",
    "import tensorflow as tf\n",
    "import tqdm\n",
    "import numpy as np\n",
    "from PIL import Image\n",
    "import time\n",
    "%matplotlib inline"
   ]
  },
  {
   "cell_type": "code",
   "execution_count": 1,
   "metadata": {},
   "outputs": [],
   "source": [
    "BSTLD_record_path = './record_files/valid.tfrecords'\n",
    "Udacity_record_path = './record_files/extra_valid.record'\n",
    "frozen_inference_graph = './frozen_models/SSD_MobileNetV2.pb'\n",
    "optimized_inference_graph = './frozen_models/optimized/optimized_SSD_MobileNetV2.pb'"
   ]
  },
  {
   "cell_type": "code",
   "execution_count": 68,
   "metadata": {},
   "outputs": [],
   "source": [
    "def load_model(model_path):\n",
    "    detection_graph = tf.Graph()\n",
    "    with detection_graph.as_default():\n",
    "        graph_def = tf.GraphDef()\n",
    "        with tf.gfile.GFile(model_path,'rb') as fid:\n",
    "            serialized_graph = fid.read()\n",
    "            graph_def.ParseFromString(serialized_graph)\n",
    "            tf.import_graph_def(graph_def,name='')\n",
    "    return detection_graph"
   ]
  },
  {
   "cell_type": "code",
   "execution_count": 43,
   "metadata": {},
   "outputs": [],
   "source": [
    "def imgs_labels_tfrecord(tf_record):\n",
    "    labels = []\n",
    "    images = []\n",
    "    with tf.Session() as sess:\n",
    "        for record in tqdm.tqdm(tf.python_io.tf_record_iterator(tf_record),desc=None):\n",
    "            example = tf.train.Example()\n",
    "            example.ParseFromString(record)\n",
    "            label = {\n",
    "                'class_labels': [\n",
    "                    class_id-1 for class_id in\n",
    "                    example.features.feature['image/object/class/label'].int64_list.value\n",
    "                ]\n",
    "            }\n",
    "            labels.append(label)\n",
    "            image = example.features.feature['image/encoded'].bytes_list.value[0]\n",
    "            image = tf.image.decode_png(image,channels=3).eval()\n",
    "            images.append(np.expand_dims(image,0))\n",
    "    return images, labels"
   ]
  },
  {
   "cell_type": "code",
   "execution_count": 5,
   "metadata": {},
   "outputs": [],
   "source": [
    "def filter_boxes(min_score, boxes, scores, classes):\n",
    "    \"\"\"Return boxes with a confidence >= `min_score`\"\"\"\n",
    "    n = len(classes)\n",
    "    idxs = []\n",
    "    for i in range(n):\n",
    "        # Find first detection of traffic signal,which is labeled with number 10\n",
    "        if scores[i] >= min_score:\n",
    "            idxs.append(i)\n",
    "\n",
    "    filtered_boxes = boxes[idxs, ...]\n",
    "    filtered_scores = scores[idxs, ...]\n",
    "    filtered_classes = classes[idxs, ...]\n",
    "    return filtered_boxes, filtered_scores, filtered_classes\n"
   ]
  },
  {
   "cell_type": "code",
   "execution_count": 6,
   "metadata": {},
   "outputs": [
    {
     "name": "stdout",
     "output_type": "stream",
     "text": [
      "WARNING:tensorflow:From <ipython-input-4-588fe60c8a4e>:5: tf_record_iterator (from tensorflow.python.lib.io.tf_record) is deprecated and will be removed in a future version.\n",
      "Instructions for updating:\n",
      "Use eager execution and: \n",
      "`tf.data.TFRecordDataset(path)`\n"
     ]
    },
    {
     "name": "stderr",
     "output_type": "stream",
     "text": [
      "517it [02:14,  2.28it/s]\n"
     ]
    }
   ],
   "source": [
    "images,labels = imgs_labels_tfrecord(BSTLD_record_path)"
   ]
  },
  {
   "cell_type": "code",
   "execution_count": 44,
   "metadata": {},
   "outputs": [
    {
     "name": "stderr",
     "output_type": "stream",
     "text": [
      "459it [09:33,  1.24s/it]\n"
     ]
    }
   ],
   "source": [
    "ud_image,ud_label = imgs_labels_tfrecord(Udacity_record_path)"
   ]
  },
  {
   "cell_type": "code",
   "execution_count": 61,
   "metadata": {},
   "outputs": [],
   "source": [
    "def detection(frozen_graph,tf_record,images,labels):\n",
    "    detection_graph = load_model(frozen_graph)\n",
    "    config = tf.ConfigProto(log_device_placement=True)\n",
    "    tf_session= tf.Session(graph=detection_graph,config=config)\n",
    "    #Input place holder for images\n",
    "    #get_tensor_by_name returns the Tensor with the associated name\n",
    "    image_tensor= detection_graph.get_tensor_by_name('image_tensor:0')\n",
    "    #Box represents particular object in the image, in our case Traffic light\n",
    "    detection_boxes = detection_graph.get_tensor_by_name('detection_boxes:0')\n",
    "    #Detection Score represents level of confidence for detecing  object\n",
    "    detection_scores = detection_graph.get_tensor_by_name('detection_scores:0')\n",
    "    #Detection class represents classification of the object\n",
    "    detection_classes = detection_graph.get_tensor_by_name('detection_classes:0')\n",
    "    #Number of detections\n",
    "    num_detection = detection_graph.get_tensor_by_name('num_detections:0')\n",
    "    positive = 0\n",
    "    negative = 0\n",
    "    for i,image in enumerate(images):\n",
    "        with detection_graph.as_default():\n",
    "            (boxes,scores,classes,num) = tf_session.run([detection_boxes,detection_scores,detection_classes,\n",
    "                                                        num_detection],feed_dict={image_tensor:image})\n",
    "        boxes = np.squeeze(boxes)\n",
    "        scores = np.squeeze(scores)\n",
    "        classes = np.squeeze(classes).astype(np.int32)\n",
    "\n",
    "        detection_threshold = 0.5\n",
    "        boxes, scores, classes = filter_boxes(detection_threshold,boxes,scores,classes)\n",
    "        if not classes.any():\n",
    "            continue\n",
    "        if classes[0] == 4:\n",
    "            continue\n",
    "        if labels[i]['class_labels'] == None:\n",
    "            continue\n",
    "        if classes[0] == labels[i]['class_labels'][0]+1:\n",
    "            positive +=1\n",
    "        elif len(labels[i]['class_labels'])>1:\n",
    "            if classes[0] == labels[i]['class_labels'][1]+1:\n",
    "                positive +=1\n",
    "        else:\n",
    "            negative +=1\n",
    "    return positive/(positive+negative)\n"
   ]
  },
  {
   "cell_type": "markdown",
   "metadata": {},
   "source": [
    "### Accuracy of inference graph"
   ]
  },
  {
   "cell_type": "markdown",
   "metadata": {},
   "source": [
    "Accuracy on BSTLD dataset\n",
    "(Only checks whether light detected was actually on the data. Accuracy of location of boxes, or whether model was able to find all the possible labels were not calculated)\n",
    "\n",
    "99.2% accuracy"
   ]
  },
  {
   "cell_type": "code",
   "execution_count": 62,
   "metadata": {},
   "outputs": [
    {
     "name": "stdout",
     "output_type": "stream",
     "text": [
      "0.992\n"
     ]
    }
   ],
   "source": [
    "print(detection(frozen_inference_graph,BSTLD_record_path,images,labels))"
   ]
  },
  {
   "cell_type": "markdown",
   "metadata": {},
   "source": [
    "Accuracy on Udacity dataset\n",
    "(All the detection was able to label all possible detection on data. This is due to clarity of dataset: data only included one traffic light or one set of traffic lights per image) \n",
    "\n",
    "100% accuracy\n"
   ]
  },
  {
   "cell_type": "code",
   "execution_count": 63,
   "metadata": {},
   "outputs": [
    {
     "name": "stdout",
     "output_type": "stream",
     "text": [
      "1.0\n"
     ]
    }
   ],
   "source": [
    "print(detection(frozen_inference_graph,Udacity_record_path,ud_image,ud_label))"
   ]
  },
  {
   "cell_type": "markdown",
   "metadata": {},
   "source": [
    "### Accuracy of Optimized inference graph"
   ]
  },
  {
   "cell_type": "code",
   "execution_count": 134,
   "metadata": {},
   "outputs": [
    {
     "name": "stdout",
     "output_type": "stream",
     "text": [
      "0.992\n"
     ]
    }
   ],
   "source": [
    "print(detection(optimized_inference_graph,BSTLD_record_path,images,labels))"
   ]
  },
  {
   "cell_type": "code",
   "execution_count": 135,
   "metadata": {},
   "outputs": [
    {
     "name": "stdout",
     "output_type": "stream",
     "text": [
      "1.0\n"
     ]
    }
   ],
   "source": [
    "print(detection(optimized_inference_graph,Udacity_record_path,ud_image,ud_label))"
   ]
  },
  {
   "cell_type": "markdown",
   "metadata": {},
   "source": [
    "# Detection Time"
   ]
  },
  {
   "cell_type": "code",
   "execution_count": 91,
   "metadata": {},
   "outputs": [],
   "source": [
    "def time_detection(sess, img_height, img_width, runs=10):\n",
    "    image_tensor = sess.graph.get_tensor_by_name('image_tensor:0')\n",
    "    detection_boxes = sess.graph.get_tensor_by_name('detection_boxes:0')\n",
    "    detection_scores = sess.graph.get_tensor_by_name('detection_scores:0')\n",
    "    detection_classes = sess.graph.get_tensor_by_name('detection_classes:0')\n",
    "\n",
    "    # warmup\n",
    "    gen_image = np.uint8(np.random.randn(1, img_height, img_width, 3))\n",
    "    sess.run([detection_boxes, detection_scores, detection_classes], feed_dict={image_tensor: gen_image})\n",
    "    \n",
    "    times = np.zeros(runs)\n",
    "    for i in range(runs):\n",
    "        t0 = time.time()\n",
    "        sess.run([detection_boxes, detection_scores, detection_classes], feed_dict={image_tensor: image})\n",
    "        t1 = time.time()\n",
    "        times[i] = (t1 - t0) * 1000\n",
    "    return times"
   ]
  },
  {
   "cell_type": "code",
   "execution_count": 129,
   "metadata": {},
   "outputs": [],
   "source": [
    "def detection_timing(graph_path):\n",
    "    detection_graph = load_model(frozen_inference_graph)\n",
    "    with tf.Session(graph=detection_graph) as sess:\n",
    "        times = time_detection(sess, 600, 1000, runs=1000)\n",
    "    # Create a figure instance\n",
    "    fig = plt.figure(1, figsize=(9, 6))\n",
    "\n",
    "    # Create an axes instance\n",
    "    ax = fig.add_subplot(111)\n",
    "    plt.title(\"Object Detection Timings\")\n",
    "    plt.ylabel(\"Time (ms)\")\n",
    "\n",
    "    # Create the boxplot\n",
    "    plt.style.use('fivethirtyeight')\n",
    "    bp = ax.boxplot(times)\n",
    "    mean = np.average(times)\n",
    "    meanString = '%.2f' % mean\n",
    "    print(\"Average detction timing is: \"+meanString)"
   ]
  },
  {
   "cell_type": "markdown",
   "metadata": {},
   "source": [
    "### Detection timing of inference graph"
   ]
  },
  {
   "cell_type": "code",
   "execution_count": 144,
   "metadata": {},
   "outputs": [
    {
     "name": "stdout",
     "output_type": "stream",
     "text": [
      "Average detction timing is: 22.86\n"
     ]
    },
    {
     "data": {
      "image/png": "[encoded data removed]",
      "text/plain": [
       "<Figure size 648x432 with 1 Axes>"
      ]
     },
     "metadata": {},
     "output_type": "display_data"
    }
   ],
   "source": [
    "detection_timing(frozen_inference_graph)"
   ]
  },
  {
   "cell_type": "markdown",
   "metadata": {},
   "source": [
    "### Detection timing of optimized inference graph"
   ]
  },
  {
   "cell_type": "code",
   "execution_count": 145,
   "metadata": {},
   "outputs": [
    {
     "name": "stdout",
     "output_type": "stream",
     "text": [
      "Average detction timing is: 22.91\n"
     ]
    },
    {
     "data": {
      "image/png": "[encoded data removed]",
      "text/plain": [
       "<Figure size 648x432 with 1 Axes>"
      ]
     },
     "metadata": {},
     "output_type": "display_data"
    }
   ],
   "source": [
    "detection_timing(optimized_inference_graph)"
   ]
  },
  {
   "cell_type": "code",
   "execution_count": null,
   "metadata": {},
   "outputs": [],
   "source": []
  }
 ],
 "metadata": {
  "kernelspec": {
   "display_name": "Python 3",
   "language": "python",
   "name": "python3"
  },
  "language_info": {
   "codemirror_mode": {
    "name": "ipython",
    "version": 3
   },
   "file_extension": ".py",
   "mimetype": "text/x-python",
   "name": "python",
   "nbconvert_exporter": "python",
   "pygments_lexer": "ipython3",
   "version": "3.7.3"
  }
 },
 "nbformat": 4,
 "nbformat_minor": 2
}
